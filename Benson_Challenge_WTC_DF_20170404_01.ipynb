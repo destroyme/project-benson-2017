{
 "cells": [
  {
   "cell_type": "code",
   "execution_count": 2,
   "metadata": {
    "collapsed": true
   },
   "outputs": [],
   "source": [
    "import pandas as pd\n",
    "import numpy as np\n",
    "import time\n",
    "import matplotlib.pyplot as plt\n",
    "\n",
    "# Challenge 1 and 2\n",
    "apr1 = 'http://web.mta.info/developers/data/nyct/turnstile/turnstile_170401.txt'\n",
    "\n",
    "df1 = pd.read_csv(apr1)"
   ]
  },
  {
   "cell_type": "code",
   "execution_count": 3,
   "metadata": {
    "collapsed": false
   },
   "outputs": [
    {
     "data": {
      "text/plain": [
       "array(['C/A', 'UNIT', 'SCP', 'STATION', 'LINENAME', 'DIVISION', 'DATE',\n",
       "       'TIME', 'DESC', 'ENTRIES',\n",
       "       'EXITS                                                               '], dtype=object)"
      ]
     },
     "execution_count": 3,
     "metadata": {},
     "output_type": "execute_result"
    }
   ],
   "source": [
    "df1.columns.values"
   ]
  },
  {
   "cell_type": "code",
   "execution_count": 4,
   "metadata": {
    "collapsed": false
   },
   "outputs": [],
   "source": [
    "# Clean the data\n",
    "\n",
    "# Create datetime column with datetime datatype\n",
    "df1['Datetime'] = pd.to_datetime(df1.DATE + ' ' + df1.TIME,\n",
    "   format = '%m/%d/%Y %H:%M:%S')\n",
    "\n",
    "# Strip whitespace from column names\n",
    "df1.columns = [s.strip() for s in df1.columns.values]\n",
    "\n",
    "# Chain methods together to achieve several goals:\n",
    "    # drop old date and time columns\n",
    "    # rename columns\n",
    "    # set the index\n",
    "\n",
    "dict_col_rename = {'C/A' : 'C_A', 'UNIT' : 'Unit', 'STATION' : 'Station', 'LINENAME' : 'Linename',\n",
    "                  'DIVISION' : 'Division', 'DESC' : 'Desc', 'ENTRIES' : 'Entries', 'EXITS' : 'Exits'}    \n",
    "\n",
    "\n",
    "df1 = (df1\n",
    "       .drop('DATE', 1)\n",
    "       .drop('TIME', 1)\n",
    "       .rename(columns = dict_col_rename)\n",
    "       .set_index(['C_A', 'Unit', 'SCP', 'Station', 'Datetime'])\n",
    "      )"
   ]
  },
  {
   "cell_type": "code",
   "execution_count": 5,
   "metadata": {
    "collapsed": false,
    "scrolled": true
   },
   "outputs": [
    {
     "data": {
      "text/html": [
       "<div>\n",
       "<table border=\"1\" class=\"dataframe\">\n",
       "  <thead>\n",
       "    <tr style=\"text-align: right;\">\n",
       "      <th></th>\n",
       "      <th></th>\n",
       "      <th></th>\n",
       "      <th></th>\n",
       "      <th></th>\n",
       "      <th>Linename</th>\n",
       "      <th>Division</th>\n",
       "      <th>Desc</th>\n",
       "      <th>Entries</th>\n",
       "      <th>Exits</th>\n",
       "    </tr>\n",
       "    <tr>\n",
       "      <th>C_A</th>\n",
       "      <th>Unit</th>\n",
       "      <th>SCP</th>\n",
       "      <th>Station</th>\n",
       "      <th>Datetime</th>\n",
       "      <th></th>\n",
       "      <th></th>\n",
       "      <th></th>\n",
       "      <th></th>\n",
       "      <th></th>\n",
       "    </tr>\n",
       "  </thead>\n",
       "  <tbody>\n",
       "    <tr>\n",
       "      <th rowspan=\"5\" valign=\"top\">A002</th>\n",
       "      <th rowspan=\"5\" valign=\"top\">R051</th>\n",
       "      <th rowspan=\"5\" valign=\"top\">02-00-00</th>\n",
       "      <th rowspan=\"5\" valign=\"top\">59 ST</th>\n",
       "      <th>2017-03-25 00:00:00</th>\n",
       "      <td>NQR456W</td>\n",
       "      <td>BMT</td>\n",
       "      <td>REGULAR</td>\n",
       "      <td>6108321</td>\n",
       "      <td>2069313</td>\n",
       "    </tr>\n",
       "    <tr>\n",
       "      <th>2017-03-25 04:00:00</th>\n",
       "      <td>NQR456W</td>\n",
       "      <td>BMT</td>\n",
       "      <td>REGULAR</td>\n",
       "      <td>6108343</td>\n",
       "      <td>2069319</td>\n",
       "    </tr>\n",
       "    <tr>\n",
       "      <th>2017-03-25 08:00:00</th>\n",
       "      <td>NQR456W</td>\n",
       "      <td>BMT</td>\n",
       "      <td>REGULAR</td>\n",
       "      <td>6108360</td>\n",
       "      <td>2069347</td>\n",
       "    </tr>\n",
       "    <tr>\n",
       "      <th>2017-03-25 12:00:00</th>\n",
       "      <td>NQR456W</td>\n",
       "      <td>BMT</td>\n",
       "      <td>REGULAR</td>\n",
       "      <td>6108462</td>\n",
       "      <td>2069456</td>\n",
       "    </tr>\n",
       "    <tr>\n",
       "      <th>2017-03-25 16:00:00</th>\n",
       "      <td>NQR456W</td>\n",
       "      <td>BMT</td>\n",
       "      <td>REGULAR</td>\n",
       "      <td>6108689</td>\n",
       "      <td>2069525</td>\n",
       "    </tr>\n",
       "  </tbody>\n",
       "</table>\n",
       "</div>"
      ],
      "text/plain": [
       "                                               Linename Division     Desc  \\\n",
       "C_A  Unit SCP      Station Datetime                                         \n",
       "A002 R051 02-00-00 59 ST   2017-03-25 00:00:00  NQR456W      BMT  REGULAR   \n",
       "                           2017-03-25 04:00:00  NQR456W      BMT  REGULAR   \n",
       "                           2017-03-25 08:00:00  NQR456W      BMT  REGULAR   \n",
       "                           2017-03-25 12:00:00  NQR456W      BMT  REGULAR   \n",
       "                           2017-03-25 16:00:00  NQR456W      BMT  REGULAR   \n",
       "\n",
       "                                                Entries    Exits  \n",
       "C_A  Unit SCP      Station Datetime                               \n",
       "A002 R051 02-00-00 59 ST   2017-03-25 00:00:00  6108321  2069313  \n",
       "                           2017-03-25 04:00:00  6108343  2069319  \n",
       "                           2017-03-25 08:00:00  6108360  2069347  \n",
       "                           2017-03-25 12:00:00  6108462  2069456  \n",
       "                           2017-03-25 16:00:00  6108689  2069525  "
      ]
     },
     "execution_count": 5,
     "metadata": {},
     "output_type": "execute_result"
    }
   ],
   "source": [
    "df1.head()"
   ]
  },
  {
   "cell_type": "code",
   "execution_count": 11,
   "metadata": {
    "collapsed": false
   },
   "outputs": [
    {
     "data": {
      "text/plain": [
       "Index(['Linename', 'Division', 'Desc', 'Entries', 'Exits'], dtype='object')"
      ]
     },
     "execution_count": 11,
     "metadata": {},
     "output_type": "execute_result"
    }
   ],
   "source": [
    "#df1.Datetime.value_counts()\n",
    "#df1.reset_index().Datetime.value_counts()\n",
    "df1.columns"
   ]
  },
  {
   "cell_type": "code",
   "execution_count": null,
   "metadata": {
    "collapsed": true
   },
   "outputs": [],
   "source": [
    "# Krishna builds a boolean \"mask\" that includes a consition using datetime.datetime\n",
    "# (or something like that)."
   ]
  },
  {
   "cell_type": "code",
   "execution_count": 72,
   "metadata": {
    "collapsed": true
   },
   "outputs": [],
   "source": [
    "# Use concat (as a join) to fix (\"de-cumulate\") the columns Entries and Exits\n",
    "\n",
    "df2 = (df1[['Entries', 'Exits']]\n",
    "       .shift()\n",
    "       .rename(columns = {'Entries' : 'Entries_Shift', 'Exits' : 'Exits_Shift'})\n",
    "      )\n"
   ]
  },
  {
   "cell_type": "code",
   "execution_count": 102,
   "metadata": {
    "collapsed": false
   },
   "outputs": [
    {
     "data": {
      "text/html": [
       "<div>\n",
       "<table border=\"1\" class=\"dataframe\">\n",
       "  <thead>\n",
       "    <tr style=\"text-align: right;\">\n",
       "      <th></th>\n",
       "      <th></th>\n",
       "      <th></th>\n",
       "      <th></th>\n",
       "      <th></th>\n",
       "      <th>Linename</th>\n",
       "      <th>Division</th>\n",
       "      <th>Desc</th>\n",
       "      <th>Entries</th>\n",
       "      <th>Exits</th>\n",
       "    </tr>\n",
       "    <tr>\n",
       "      <th>C_A</th>\n",
       "      <th>Unit</th>\n",
       "      <th>SCP</th>\n",
       "      <th>Station</th>\n",
       "      <th>Datetime</th>\n",
       "      <th></th>\n",
       "      <th></th>\n",
       "      <th></th>\n",
       "      <th></th>\n",
       "      <th></th>\n",
       "    </tr>\n",
       "  </thead>\n",
       "  <tbody>\n",
       "    <tr>\n",
       "      <th rowspan=\"5\" valign=\"top\">A002</th>\n",
       "      <th rowspan=\"5\" valign=\"top\">R051</th>\n",
       "      <th rowspan=\"5\" valign=\"top\">02-00-00</th>\n",
       "      <th rowspan=\"5\" valign=\"top\">59 ST</th>\n",
       "      <th>2017-03-25 04:00:00</th>\n",
       "      <td>NQR456W</td>\n",
       "      <td>BMT</td>\n",
       "      <td>REGULAR</td>\n",
       "      <td>22.0</td>\n",
       "      <td>6.0</td>\n",
       "    </tr>\n",
       "    <tr>\n",
       "      <th>2017-03-25 08:00:00</th>\n",
       "      <td>NQR456W</td>\n",
       "      <td>BMT</td>\n",
       "      <td>REGULAR</td>\n",
       "      <td>17.0</td>\n",
       "      <td>28.0</td>\n",
       "    </tr>\n",
       "    <tr>\n",
       "      <th>2017-03-25 12:00:00</th>\n",
       "      <td>NQR456W</td>\n",
       "      <td>BMT</td>\n",
       "      <td>REGULAR</td>\n",
       "      <td>102.0</td>\n",
       "      <td>109.0</td>\n",
       "    </tr>\n",
       "    <tr>\n",
       "      <th>2017-03-25 16:00:00</th>\n",
       "      <td>NQR456W</td>\n",
       "      <td>BMT</td>\n",
       "      <td>REGULAR</td>\n",
       "      <td>227.0</td>\n",
       "      <td>69.0</td>\n",
       "    </tr>\n",
       "    <tr>\n",
       "      <th>2017-03-25 20:00:00</th>\n",
       "      <td>NQR456W</td>\n",
       "      <td>BMT</td>\n",
       "      <td>REGULAR</td>\n",
       "      <td>294.0</td>\n",
       "      <td>45.0</td>\n",
       "    </tr>\n",
       "  </tbody>\n",
       "</table>\n",
       "</div>"
      ],
      "text/plain": [
       "                                               Linename Division     Desc  \\\n",
       "C_A  Unit SCP      Station Datetime                                         \n",
       "A002 R051 02-00-00 59 ST   2017-03-25 04:00:00  NQR456W      BMT  REGULAR   \n",
       "                           2017-03-25 08:00:00  NQR456W      BMT  REGULAR   \n",
       "                           2017-03-25 12:00:00  NQR456W      BMT  REGULAR   \n",
       "                           2017-03-25 16:00:00  NQR456W      BMT  REGULAR   \n",
       "                           2017-03-25 20:00:00  NQR456W      BMT  REGULAR   \n",
       "\n",
       "                                                Entries  Exits  \n",
       "C_A  Unit SCP      Station Datetime                             \n",
       "A002 R051 02-00-00 59 ST   2017-03-25 04:00:00     22.0    6.0  \n",
       "                           2017-03-25 08:00:00     17.0   28.0  \n",
       "                           2017-03-25 12:00:00    102.0  109.0  \n",
       "                           2017-03-25 16:00:00    227.0   69.0  \n",
       "                           2017-03-25 20:00:00    294.0   45.0  "
      ]
     },
     "execution_count": 102,
     "metadata": {},
     "output_type": "execute_result"
    }
   ],
   "source": [
    "df3 = pd.concat([df1, df2], axis = 1)\n",
    "\n",
    "df3['Entries'] = df3['Entries'] - df3['Entries_Shift']\n",
    "df3['Exits'] = df3['Exits'] - df3['Exits_Shift']\n",
    "\n",
    "df3 = (df3\n",
    "       .drop('Entries_Shift', 1)\n",
    "       .drop('Exits_Shift', 1)\n",
    "       .dropna(how = 'any')\n",
    "      )\n",
    "\n",
    "df3.head()"
   ]
  },
  {
   "cell_type": "code",
   "execution_count": null,
   "metadata": {
    "collapsed": true
   },
   "outputs": [],
   "source": [
    "# Check uniqueness of rows/indexes by getting counts.\n",
    "df4 = (df3\n",
    "       .groupby(['C_A', 'Unit', 'SCP', 'Station', 'Datetime'])\n",
    "       .count() #.Entries.count()\n",
    "       .reset_index()\n",
    "       .sort_values('Entries', ascending = False)\n",
    "       .iloc[:5] #.head()\n",
    "      )\n"
   ]
  },
  {
   "cell_type": "code",
   "execution_count": 98,
   "metadata": {
    "collapsed": false
   },
   "outputs": [
    {
     "name": "stdout",
     "output_type": "stream",
     "text": [
      "[nan, 0.0, 0.0, 0.0, 0.0]\n"
     ]
    }
   ],
   "source": [
    "# Challenge 3 - Total Daily Entries\n"
   ]
  },
  {
   "cell_type": "code",
   "execution_count": 103,
   "metadata": {
    "collapsed": false
   },
   "outputs": [
    {
     "name": "stdout",
     "output_type": "stream",
     "text": [
      "<class 'pandas.core.frame.DataFrame'>\n",
      "RangeIndex: 198368 entries, 0 to 198367\n",
      "Data columns (total 4 columns):\n",
      "Entries    198368 non-null int64\n",
      "Exits      198368 non-null int64\n",
      "Entries    198367 non-null float64\n",
      "Exits      198367 non-null float64\n",
      "dtypes: float64(2), int64(2)\n",
      "memory usage: 6.1 MB\n"
     ]
    }
   ],
   "source": [
    "df4.info()"
   ]
  },
  {
   "cell_type": "code",
   "execution_count": 109,
   "metadata": {
    "collapsed": false
   },
   "outputs": [
    {
     "name": "stdout",
     "output_type": "stream",
     "text": [
      "<class 'pandas.core.frame.DataFrame'>\n",
      "MultiIndex: 198367 entries, (A002, R051, 02-00-00, 59 ST, 2017-03-25 04:00:00) to (TRAM2, R469, 00-05-01, RIT-ROOSEVELT, 2017-03-31 21:00:00)\n",
      "Data columns (total 5 columns):\n",
      "Linename    198367 non-null object\n",
      "Division    198367 non-null object\n",
      "Desc        198367 non-null object\n",
      "Entries     198367 non-null float64\n",
      "Exits       198367 non-null float64\n",
      "dtypes: float64(2), object(3)\n",
      "memory usage: 9.6+ MB\n"
     ]
    }
   ],
   "source": [
    "df3.info()"
   ]
  },
  {
   "cell_type": "code",
   "execution_count": null,
   "metadata": {
    "collapsed": true
   },
   "outputs": [],
   "source": []
  }
 ],
 "metadata": {
  "kernelspec": {
   "display_name": "Python 3",
   "language": "python",
   "name": "python3"
  },
  "language_info": {
   "codemirror_mode": {
    "name": "ipython",
    "version": 3
   },
   "file_extension": ".py",
   "mimetype": "text/x-python",
   "name": "python",
   "nbconvert_exporter": "python",
   "pygments_lexer": "ipython3",
   "version": "3.6.0"
  }
 },
 "nbformat": 4,
 "nbformat_minor": 2
}
